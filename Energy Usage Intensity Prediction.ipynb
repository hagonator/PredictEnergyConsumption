{
 "cells": [
  {
   "cell_type": "code",
   "execution_count": 1,
   "id": "bca34bfb",
   "metadata": {},
   "outputs": [],
   "source": [
    "import numpy as np\n",
    "import pandas as pd\n",
    "import matplotlib.pyplot as plt\n",
    "import sklearn as sk"
   ]
  },
  {
   "cell_type": "code",
   "execution_count": 2,
   "id": "48861aaf",
   "metadata": {},
   "outputs": [],
   "source": [
    "df = pd.read_csv(\"data.csv\")"
   ]
  },
  {
   "cell_type": "markdown",
   "id": "963c778d",
   "metadata": {},
   "source": [
    "## Data Exploration"
   ]
  },
  {
   "cell_type": "code",
   "execution_count": 3,
   "id": "b42baef0",
   "metadata": {},
   "outputs": [
    {
     "data": {
      "text/html": [
       "<div>\n",
       "<style scoped>\n",
       "    .dataframe tbody tr th:only-of-type {\n",
       "        vertical-align: middle;\n",
       "    }\n",
       "\n",
       "    .dataframe tbody tr th {\n",
       "        vertical-align: top;\n",
       "    }\n",
       "\n",
       "    .dataframe thead th {\n",
       "        text-align: right;\n",
       "    }\n",
       "</style>\n",
       "<table border=\"1\" class=\"dataframe\">\n",
       "  <thead>\n",
       "    <tr style=\"text-align: right;\">\n",
       "      <th></th>\n",
       "      <th>Year_Factor</th>\n",
       "      <th>floor_area</th>\n",
       "      <th>year_built</th>\n",
       "      <th>energy_star_rating</th>\n",
       "      <th>ELEVATION</th>\n",
       "      <th>january_min_temp</th>\n",
       "      <th>january_avg_temp</th>\n",
       "      <th>january_max_temp</th>\n",
       "      <th>february_min_temp</th>\n",
       "      <th>february_avg_temp</th>\n",
       "      <th>...</th>\n",
       "      <th>days_above_80F</th>\n",
       "      <th>days_above_90F</th>\n",
       "      <th>days_above_100F</th>\n",
       "      <th>days_above_110F</th>\n",
       "      <th>direction_max_wind_speed</th>\n",
       "      <th>direction_peak_wind_speed</th>\n",
       "      <th>max_wind_speed</th>\n",
       "      <th>days_with_fog</th>\n",
       "      <th>site_eui</th>\n",
       "      <th>id</th>\n",
       "    </tr>\n",
       "  </thead>\n",
       "  <tbody>\n",
       "    <tr>\n",
       "      <th>count</th>\n",
       "      <td>75757.000000</td>\n",
       "      <td>7.575700e+04</td>\n",
       "      <td>73920.000000</td>\n",
       "      <td>49048.000000</td>\n",
       "      <td>75757.000000</td>\n",
       "      <td>75757.000000</td>\n",
       "      <td>75757.000000</td>\n",
       "      <td>75757.000000</td>\n",
       "      <td>75757.000000</td>\n",
       "      <td>75757.000000</td>\n",
       "      <td>...</td>\n",
       "      <td>75757.000000</td>\n",
       "      <td>75757.000000</td>\n",
       "      <td>75757.000000</td>\n",
       "      <td>75757.000000</td>\n",
       "      <td>34675.000000</td>\n",
       "      <td>33946.000000</td>\n",
       "      <td>34675.000000</td>\n",
       "      <td>29961.000000</td>\n",
       "      <td>75757.000000</td>\n",
       "      <td>75757.000000</td>\n",
       "    </tr>\n",
       "    <tr>\n",
       "      <th>mean</th>\n",
       "      <td>4.367755</td>\n",
       "      <td>1.659839e+05</td>\n",
       "      <td>1952.306764</td>\n",
       "      <td>61.048605</td>\n",
       "      <td>39.506323</td>\n",
       "      <td>11.432343</td>\n",
       "      <td>34.310468</td>\n",
       "      <td>59.054952</td>\n",
       "      <td>11.720567</td>\n",
       "      <td>35.526837</td>\n",
       "      <td>...</td>\n",
       "      <td>82.709809</td>\n",
       "      <td>14.058701</td>\n",
       "      <td>0.279539</td>\n",
       "      <td>0.002442</td>\n",
       "      <td>66.552675</td>\n",
       "      <td>62.779974</td>\n",
       "      <td>4.190601</td>\n",
       "      <td>109.142051</td>\n",
       "      <td>82.584693</td>\n",
       "      <td>37878.000000</td>\n",
       "    </tr>\n",
       "    <tr>\n",
       "      <th>std</th>\n",
       "      <td>1.471441</td>\n",
       "      <td>2.468758e+05</td>\n",
       "      <td>37.053619</td>\n",
       "      <td>28.663683</td>\n",
       "      <td>60.656596</td>\n",
       "      <td>9.381027</td>\n",
       "      <td>6.996108</td>\n",
       "      <td>5.355458</td>\n",
       "      <td>12.577272</td>\n",
       "      <td>8.866697</td>\n",
       "      <td>...</td>\n",
       "      <td>25.282913</td>\n",
       "      <td>10.943996</td>\n",
       "      <td>2.252323</td>\n",
       "      <td>0.142140</td>\n",
       "      <td>131.147834</td>\n",
       "      <td>130.308106</td>\n",
       "      <td>6.458789</td>\n",
       "      <td>50.699751</td>\n",
       "      <td>58.255403</td>\n",
       "      <td>21869.306509</td>\n",
       "    </tr>\n",
       "    <tr>\n",
       "      <th>min</th>\n",
       "      <td>1.000000</td>\n",
       "      <td>9.430000e+02</td>\n",
       "      <td>0.000000</td>\n",
       "      <td>0.000000</td>\n",
       "      <td>-6.400000</td>\n",
       "      <td>-19.000000</td>\n",
       "      <td>10.806452</td>\n",
       "      <td>42.000000</td>\n",
       "      <td>-13.000000</td>\n",
       "      <td>13.250000</td>\n",
       "      <td>...</td>\n",
       "      <td>0.000000</td>\n",
       "      <td>0.000000</td>\n",
       "      <td>0.000000</td>\n",
       "      <td>0.000000</td>\n",
       "      <td>1.000000</td>\n",
       "      <td>1.000000</td>\n",
       "      <td>1.000000</td>\n",
       "      <td>12.000000</td>\n",
       "      <td>1.001169</td>\n",
       "      <td>0.000000</td>\n",
       "    </tr>\n",
       "    <tr>\n",
       "      <th>25%</th>\n",
       "      <td>3.000000</td>\n",
       "      <td>6.237900e+04</td>\n",
       "      <td>1927.000000</td>\n",
       "      <td>40.000000</td>\n",
       "      <td>11.900000</td>\n",
       "      <td>6.000000</td>\n",
       "      <td>29.827586</td>\n",
       "      <td>56.000000</td>\n",
       "      <td>2.000000</td>\n",
       "      <td>31.625000</td>\n",
       "      <td>...</td>\n",
       "      <td>72.000000</td>\n",
       "      <td>6.000000</td>\n",
       "      <td>0.000000</td>\n",
       "      <td>0.000000</td>\n",
       "      <td>1.000000</td>\n",
       "      <td>1.000000</td>\n",
       "      <td>1.000000</td>\n",
       "      <td>88.000000</td>\n",
       "      <td>54.528601</td>\n",
       "      <td>18939.000000</td>\n",
       "    </tr>\n",
       "    <tr>\n",
       "      <th>50%</th>\n",
       "      <td>5.000000</td>\n",
       "      <td>9.136700e+04</td>\n",
       "      <td>1951.000000</td>\n",
       "      <td>67.000000</td>\n",
       "      <td>25.000000</td>\n",
       "      <td>11.000000</td>\n",
       "      <td>34.451613</td>\n",
       "      <td>59.000000</td>\n",
       "      <td>9.000000</td>\n",
       "      <td>34.107143</td>\n",
       "      <td>...</td>\n",
       "      <td>84.000000</td>\n",
       "      <td>12.000000</td>\n",
       "      <td>0.000000</td>\n",
       "      <td>0.000000</td>\n",
       "      <td>1.000000</td>\n",
       "      <td>1.000000</td>\n",
       "      <td>1.000000</td>\n",
       "      <td>104.000000</td>\n",
       "      <td>75.293716</td>\n",
       "      <td>37878.000000</td>\n",
       "    </tr>\n",
       "    <tr>\n",
       "      <th>75%</th>\n",
       "      <td>6.000000</td>\n",
       "      <td>1.660000e+05</td>\n",
       "      <td>1977.000000</td>\n",
       "      <td>85.000000</td>\n",
       "      <td>42.700000</td>\n",
       "      <td>13.000000</td>\n",
       "      <td>37.322581</td>\n",
       "      <td>62.000000</td>\n",
       "      <td>20.000000</td>\n",
       "      <td>40.879310</td>\n",
       "      <td>...</td>\n",
       "      <td>97.000000</td>\n",
       "      <td>17.000000</td>\n",
       "      <td>0.000000</td>\n",
       "      <td>0.000000</td>\n",
       "      <td>1.000000</td>\n",
       "      <td>1.000000</td>\n",
       "      <td>1.000000</td>\n",
       "      <td>131.000000</td>\n",
       "      <td>97.277534</td>\n",
       "      <td>56817.000000</td>\n",
       "    </tr>\n",
       "    <tr>\n",
       "      <th>max</th>\n",
       "      <td>6.000000</td>\n",
       "      <td>6.385382e+06</td>\n",
       "      <td>2015.000000</td>\n",
       "      <td>100.000000</td>\n",
       "      <td>1924.500000</td>\n",
       "      <td>49.000000</td>\n",
       "      <td>64.758065</td>\n",
       "      <td>91.000000</td>\n",
       "      <td>48.000000</td>\n",
       "      <td>65.107143</td>\n",
       "      <td>...</td>\n",
       "      <td>260.000000</td>\n",
       "      <td>185.000000</td>\n",
       "      <td>119.000000</td>\n",
       "      <td>16.000000</td>\n",
       "      <td>360.000000</td>\n",
       "      <td>360.000000</td>\n",
       "      <td>23.300000</td>\n",
       "      <td>311.000000</td>\n",
       "      <td>997.866120</td>\n",
       "      <td>75756.000000</td>\n",
       "    </tr>\n",
       "  </tbody>\n",
       "</table>\n",
       "<p>8 rows × 61 columns</p>\n",
       "</div>"
      ],
      "text/plain": [
       "        Year_Factor    floor_area    year_built  energy_star_rating  \\\n",
       "count  75757.000000  7.575700e+04  73920.000000        49048.000000   \n",
       "mean       4.367755  1.659839e+05   1952.306764           61.048605   \n",
       "std        1.471441  2.468758e+05     37.053619           28.663683   \n",
       "min        1.000000  9.430000e+02      0.000000            0.000000   \n",
       "25%        3.000000  6.237900e+04   1927.000000           40.000000   \n",
       "50%        5.000000  9.136700e+04   1951.000000           67.000000   \n",
       "75%        6.000000  1.660000e+05   1977.000000           85.000000   \n",
       "max        6.000000  6.385382e+06   2015.000000          100.000000   \n",
       "\n",
       "          ELEVATION  january_min_temp  january_avg_temp  january_max_temp  \\\n",
       "count  75757.000000      75757.000000      75757.000000      75757.000000   \n",
       "mean      39.506323         11.432343         34.310468         59.054952   \n",
       "std       60.656596          9.381027          6.996108          5.355458   \n",
       "min       -6.400000        -19.000000         10.806452         42.000000   \n",
       "25%       11.900000          6.000000         29.827586         56.000000   \n",
       "50%       25.000000         11.000000         34.451613         59.000000   \n",
       "75%       42.700000         13.000000         37.322581         62.000000   \n",
       "max     1924.500000         49.000000         64.758065         91.000000   \n",
       "\n",
       "       february_min_temp  february_avg_temp  ...  days_above_80F  \\\n",
       "count       75757.000000       75757.000000  ...    75757.000000   \n",
       "mean           11.720567          35.526837  ...       82.709809   \n",
       "std            12.577272           8.866697  ...       25.282913   \n",
       "min           -13.000000          13.250000  ...        0.000000   \n",
       "25%             2.000000          31.625000  ...       72.000000   \n",
       "50%             9.000000          34.107143  ...       84.000000   \n",
       "75%            20.000000          40.879310  ...       97.000000   \n",
       "max            48.000000          65.107143  ...      260.000000   \n",
       "\n",
       "       days_above_90F  days_above_100F  days_above_110F  \\\n",
       "count    75757.000000     75757.000000     75757.000000   \n",
       "mean        14.058701         0.279539         0.002442   \n",
       "std         10.943996         2.252323         0.142140   \n",
       "min          0.000000         0.000000         0.000000   \n",
       "25%          6.000000         0.000000         0.000000   \n",
       "50%         12.000000         0.000000         0.000000   \n",
       "75%         17.000000         0.000000         0.000000   \n",
       "max        185.000000       119.000000        16.000000   \n",
       "\n",
       "       direction_max_wind_speed  direction_peak_wind_speed  max_wind_speed  \\\n",
       "count              34675.000000               33946.000000    34675.000000   \n",
       "mean                  66.552675                  62.779974        4.190601   \n",
       "std                  131.147834                 130.308106        6.458789   \n",
       "min                    1.000000                   1.000000        1.000000   \n",
       "25%                    1.000000                   1.000000        1.000000   \n",
       "50%                    1.000000                   1.000000        1.000000   \n",
       "75%                    1.000000                   1.000000        1.000000   \n",
       "max                  360.000000                 360.000000       23.300000   \n",
       "\n",
       "       days_with_fog      site_eui            id  \n",
       "count   29961.000000  75757.000000  75757.000000  \n",
       "mean      109.142051     82.584693  37878.000000  \n",
       "std        50.699751     58.255403  21869.306509  \n",
       "min        12.000000      1.001169      0.000000  \n",
       "25%        88.000000     54.528601  18939.000000  \n",
       "50%       104.000000     75.293716  37878.000000  \n",
       "75%       131.000000     97.277534  56817.000000  \n",
       "max       311.000000    997.866120  75756.000000  \n",
       "\n",
       "[8 rows x 61 columns]"
      ]
     },
     "execution_count": 3,
     "metadata": {},
     "output_type": "execute_result"
    }
   ],
   "source": [
    "df.describe()"
   ]
  },
  {
   "cell_type": "code",
   "execution_count": 4,
   "id": "33c1c73b",
   "metadata": {},
   "outputs": [],
   "source": [
    "from sklearn.impute import SimpleImputer\n",
    "\n",
    "si = SimpleImputer(strategy='median')\n",
    "dmws = df.loc[:, ('days_with_fog', 'energy_star_rating')]"
   ]
  },
  {
   "cell_type": "code",
   "execution_count": 5,
   "id": "167cda30",
   "metadata": {},
   "outputs": [
    {
     "data": {
      "text/html": [
       "<div>\n",
       "<style scoped>\n",
       "    .dataframe tbody tr th:only-of-type {\n",
       "        vertical-align: middle;\n",
       "    }\n",
       "\n",
       "    .dataframe tbody tr th {\n",
       "        vertical-align: top;\n",
       "    }\n",
       "\n",
       "    .dataframe thead th {\n",
       "        text-align: right;\n",
       "    }\n",
       "</style>\n",
       "<table border=\"1\" class=\"dataframe\">\n",
       "  <thead>\n",
       "    <tr style=\"text-align: right;\">\n",
       "      <th></th>\n",
       "      <th>days_with_fog</th>\n",
       "      <th>energy_star_rating</th>\n",
       "    </tr>\n",
       "  </thead>\n",
       "  <tbody>\n",
       "    <tr>\n",
       "      <th>0</th>\n",
       "      <td>NaN</td>\n",
       "      <td>11.0</td>\n",
       "    </tr>\n",
       "    <tr>\n",
       "      <th>1</th>\n",
       "      <td>12.0</td>\n",
       "      <td>45.0</td>\n",
       "    </tr>\n",
       "    <tr>\n",
       "      <th>2</th>\n",
       "      <td>12.0</td>\n",
       "      <td>97.0</td>\n",
       "    </tr>\n",
       "    <tr>\n",
       "      <th>3</th>\n",
       "      <td>12.0</td>\n",
       "      <td>46.0</td>\n",
       "    </tr>\n",
       "    <tr>\n",
       "      <th>4</th>\n",
       "      <td>NaN</td>\n",
       "      <td>100.0</td>\n",
       "    </tr>\n",
       "    <tr>\n",
       "      <th>...</th>\n",
       "      <td>...</td>\n",
       "      <td>...</td>\n",
       "    </tr>\n",
       "    <tr>\n",
       "      <th>75752</th>\n",
       "      <td>NaN</td>\n",
       "      <td>8.0</td>\n",
       "    </tr>\n",
       "    <tr>\n",
       "      <th>75753</th>\n",
       "      <td>NaN</td>\n",
       "      <td>98.0</td>\n",
       "    </tr>\n",
       "    <tr>\n",
       "      <th>75754</th>\n",
       "      <td>NaN</td>\n",
       "      <td>NaN</td>\n",
       "    </tr>\n",
       "    <tr>\n",
       "      <th>75755</th>\n",
       "      <td>NaN</td>\n",
       "      <td>NaN</td>\n",
       "    </tr>\n",
       "    <tr>\n",
       "      <th>75756</th>\n",
       "      <td>NaN</td>\n",
       "      <td>51.0</td>\n",
       "    </tr>\n",
       "  </tbody>\n",
       "</table>\n",
       "<p>75757 rows × 2 columns</p>\n",
       "</div>"
      ],
      "text/plain": [
       "       days_with_fog  energy_star_rating\n",
       "0                NaN                11.0\n",
       "1               12.0                45.0\n",
       "2               12.0                97.0\n",
       "3               12.0                46.0\n",
       "4                NaN               100.0\n",
       "...              ...                 ...\n",
       "75752            NaN                 8.0\n",
       "75753            NaN                98.0\n",
       "75754            NaN                 NaN\n",
       "75755            NaN                 NaN\n",
       "75756            NaN                51.0\n",
       "\n",
       "[75757 rows x 2 columns]"
      ]
     },
     "execution_count": 5,
     "metadata": {},
     "output_type": "execute_result"
    }
   ],
   "source": [
    "dmws"
   ]
  },
  {
   "cell_type": "code",
   "execution_count": 6,
   "id": "01d4acd1",
   "metadata": {},
   "outputs": [
    {
     "data": {
      "text/html": [
       "<div>\n",
       "<style scoped>\n",
       "    .dataframe tbody tr th:only-of-type {\n",
       "        vertical-align: middle;\n",
       "    }\n",
       "\n",
       "    .dataframe tbody tr th {\n",
       "        vertical-align: top;\n",
       "    }\n",
       "\n",
       "    .dataframe thead th {\n",
       "        text-align: right;\n",
       "    }\n",
       "</style>\n",
       "<table border=\"1\" class=\"dataframe\">\n",
       "  <thead>\n",
       "    <tr style=\"text-align: right;\">\n",
       "      <th></th>\n",
       "      <th>days_with_fog</th>\n",
       "      <th>energy_star_rating</th>\n",
       "    </tr>\n",
       "  </thead>\n",
       "  <tbody>\n",
       "    <tr>\n",
       "      <th>0</th>\n",
       "      <td>NaN</td>\n",
       "      <td>33.0</td>\n",
       "    </tr>\n",
       "    <tr>\n",
       "      <th>1</th>\n",
       "      <td>24.0</td>\n",
       "      <td>135.0</td>\n",
       "    </tr>\n",
       "    <tr>\n",
       "      <th>2</th>\n",
       "      <td>24.0</td>\n",
       "      <td>291.0</td>\n",
       "    </tr>\n",
       "    <tr>\n",
       "      <th>3</th>\n",
       "      <td>24.0</td>\n",
       "      <td>138.0</td>\n",
       "    </tr>\n",
       "    <tr>\n",
       "      <th>4</th>\n",
       "      <td>NaN</td>\n",
       "      <td>300.0</td>\n",
       "    </tr>\n",
       "    <tr>\n",
       "      <th>...</th>\n",
       "      <td>...</td>\n",
       "      <td>...</td>\n",
       "    </tr>\n",
       "    <tr>\n",
       "      <th>75752</th>\n",
       "      <td>NaN</td>\n",
       "      <td>24.0</td>\n",
       "    </tr>\n",
       "    <tr>\n",
       "      <th>75753</th>\n",
       "      <td>NaN</td>\n",
       "      <td>294.0</td>\n",
       "    </tr>\n",
       "    <tr>\n",
       "      <th>75754</th>\n",
       "      <td>NaN</td>\n",
       "      <td>NaN</td>\n",
       "    </tr>\n",
       "    <tr>\n",
       "      <th>75755</th>\n",
       "      <td>NaN</td>\n",
       "      <td>NaN</td>\n",
       "    </tr>\n",
       "    <tr>\n",
       "      <th>75756</th>\n",
       "      <td>NaN</td>\n",
       "      <td>153.0</td>\n",
       "    </tr>\n",
       "  </tbody>\n",
       "</table>\n",
       "<p>75757 rows × 2 columns</p>\n",
       "</div>"
      ],
      "text/plain": [
       "       days_with_fog  energy_star_rating\n",
       "0                NaN                33.0\n",
       "1               24.0               135.0\n",
       "2               24.0               291.0\n",
       "3               24.0               138.0\n",
       "4                NaN               300.0\n",
       "...              ...                 ...\n",
       "75752            NaN                24.0\n",
       "75753            NaN               294.0\n",
       "75754            NaN                 NaN\n",
       "75755            NaN                 NaN\n",
       "75756            NaN               153.0\n",
       "\n",
       "[75757 rows x 2 columns]"
      ]
     },
     "execution_count": 6,
     "metadata": {},
     "output_type": "execute_result"
    }
   ],
   "source": [
    "dmws * [2, 3]"
   ]
  },
  {
   "cell_type": "code",
   "execution_count": 10,
   "id": "660d9c38",
   "metadata": {},
   "outputs": [],
   "source": [
    "es = df.loc[:, ('avg_temp', 'site_eui')]"
   ]
  },
  {
   "cell_type": "code",
   "execution_count": 11,
   "id": "0ddebf87",
   "metadata": {},
   "outputs": [
    {
     "data": {
      "text/plain": [
       "0        135.559450\n",
       "1         21.547278\n",
       "2         22.824688\n",
       "3          6.056848\n",
       "4         37.528425\n",
       "            ...    \n",
       "75752     54.992310\n",
       "75753     11.076028\n",
       "75754      0.348742\n",
       "75755    384.744965\n",
       "75756     14.122841\n",
       "Length: 75757, dtype: float64"
      ]
     },
     "execution_count": 11,
     "metadata": {},
     "output_type": "execute_result"
    }
   ],
   "source": [
    "es.std(axis=1)"
   ]
  },
  {
   "cell_type": "code",
   "execution_count": 46,
   "id": "5695fbaa",
   "metadata": {},
   "outputs": [],
   "source": [
    "es_mean = np.repeat(es.mean(axis=1).values.reshape(-1, 1), 2, 1)"
   ]
  },
  {
   "cell_type": "code",
   "execution_count": 57,
   "id": "ea2ab58b",
   "metadata": {},
   "outputs": [
    {
     "data": {
      "text/plain": [
       "0        135.559450\n",
       "1         21.547278\n",
       "2         22.824688\n",
       "3          6.056848\n",
       "4         37.528425\n",
       "            ...    \n",
       "75752     54.992310\n",
       "75753     11.076028\n",
       "75754      0.348742\n",
       "75755    384.744965\n",
       "75756     14.122841\n",
       "Length: 75757, dtype: float64"
      ]
     },
     "execution_count": 57,
     "metadata": {},
     "output_type": "execute_result"
    }
   ],
   "source": [
    "(((es - es_mean)**2).sum(axis=1) / (es.shape[1]-1))**0.5"
   ]
  },
  {
   "cell_type": "code",
   "execution_count": 42,
   "id": "de3fbe43",
   "metadata": {},
   "outputs": [
    {
     "data": {
      "text/plain": [
       "array([[152.82760912,  41.73637623,  40.83311101, ...,  48.15779998,\n",
       "        319.96697629,  39.14104086],\n",
       "       [152.82760912,  41.73637623,  40.83311101, ...,  48.15779998,\n",
       "        319.96697629,  39.14104086]])"
      ]
     },
     "execution_count": 42,
     "metadata": {},
     "output_type": "execute_result"
    }
   ],
   "source": [
    "es_mean"
   ]
  },
  {
   "cell_type": "code",
   "execution_count": null,
   "id": "0e890bda",
   "metadata": {},
   "outputs": [],
   "source": [
    "df.loc[:, ('days_with_fog', 'energy_star_rating')].dtypes"
   ]
  },
  {
   "cell_type": "code",
   "execution_count": null,
   "id": "439bb681",
   "metadata": {},
   "outputs": [],
   "source": [
    "df = df.drop(\"id\", axis=1)"
   ]
  },
  {
   "cell_type": "code",
   "execution_count": null,
   "id": "bf0bd7c8",
   "metadata": {},
   "outputs": [],
   "source": [
    "df.shape[0] - df.count()[df.count() < df.shape[0]]"
   ]
  },
  {
   "cell_type": "markdown",
   "id": "294368c1",
   "metadata": {},
   "source": [
    "Look into missing building years"
   ]
  },
  {
   "cell_type": "code",
   "execution_count": null,
   "id": "66387d5c",
   "metadata": {},
   "outputs": [],
   "source": [
    "df.loc[df[\"year_built\"].isna()]"
   ]
  },
  {
   "cell_type": "markdown",
   "id": "65bd4761",
   "metadata": {},
   "source": [
    "There is no clear indication why these years are missing, since its only a few (~1k/75k) we could drop them. But lets first look into the distribution of year_built of the whole dataset."
   ]
  },
  {
   "cell_type": "code",
   "execution_count": null,
   "id": "ca405148",
   "metadata": {},
   "outputs": [],
   "source": [
    "df.loc[(df[\"year_built\"] >= 1800 & ~df[\"year_built\"].isna()), \"year_built\"].shape"
   ]
  },
  {
   "cell_type": "markdown",
   "id": "c5bbf1a1",
   "metadata": {},
   "source": [
    "There are also outliers of buildings older than 1800. Lets first remove all of them."
   ]
  },
  {
   "cell_type": "code",
   "execution_count": null,
   "id": "dd5c33ad",
   "metadata": {},
   "outputs": [],
   "source": [
    "df[\"year_built\"].plot(kind=\"box\")"
   ]
  },
  {
   "cell_type": "code",
   "execution_count": null,
   "id": "a0040da1",
   "metadata": {},
   "outputs": [],
   "source": [
    "q1 = df[\"year_built\"].quantile(0.25)\n",
    "q3 = df[\"year_built\"].quantile(0.75)\n",
    "lower_whisker = q1 - 1.5*(q3-q1)\n",
    "print(lower_whisker)"
   ]
  },
  {
   "cell_type": "code",
   "execution_count": null,
   "id": "1e47aeb9",
   "metadata": {},
   "outputs": [],
   "source": [
    "df = df.loc[((df[\"year_built\"] >= lower_whisker) & ~df[\"year_built\"].isna())]"
   ]
  },
  {
   "cell_type": "markdown",
   "id": "371f76f4",
   "metadata": {},
   "source": [
    "Now lets look into the energy_star_rating."
   ]
  },
  {
   "cell_type": "code",
   "execution_count": null,
   "id": "187859d7",
   "metadata": {},
   "outputs": [],
   "source": [
    "df[\"energy_star_rating\"].hist()"
   ]
  },
  {
   "cell_type": "code",
   "execution_count": null,
   "id": "a09ed11b",
   "metadata": {},
   "outputs": [],
   "source": [
    "df[\"energy_star_rating\"].plot(kind='box')\n",
    "print(df[\"energy_star_rating\"].mean())\n",
    "print(df[\"energy_star_rating\"].median())"
   ]
  },
  {
   "cell_type": "markdown",
   "id": "8cc013dd",
   "metadata": {},
   "source": [
    "Lets first try to replace values by the median."
   ]
  },
  {
   "cell_type": "markdown",
   "id": "713b139b",
   "metadata": {},
   "source": [
    "Same for max_wind_speed and days_with_fog."
   ]
  },
  {
   "cell_type": "code",
   "execution_count": null,
   "id": "b43692cc",
   "metadata": {
    "scrolled": false
   },
   "outputs": [],
   "source": [
    "df.loc[df[\"max_wind_speed\"] < 10,\"max_wind_speed\"].sort_values()"
   ]
  },
  {
   "cell_type": "code",
   "execution_count": null,
   "id": "ec735bbd",
   "metadata": {},
   "outputs": [],
   "source": [
    "df.loc[df[\"max_wind_speed\"] >= 10,\"max_wind_speed\"].hist()"
   ]
  },
  {
   "cell_type": "code",
   "execution_count": null,
   "id": "6d87999b",
   "metadata": {},
   "outputs": [],
   "source": [
    "df.loc[df[\"max_wind_speed\"] >= 10,\"max_wind_speed\"].sort_values()"
   ]
  },
  {
   "cell_type": "markdown",
   "id": "69ef0925",
   "metadata": {},
   "source": [
    "We have more than 50% missing value and about 33% the value 1.0, hence the quality of this feature is unclear. Either drop or binarize, but if the later, than how?\n",
    "Or replace by median (1.0)?"
   ]
  },
  {
   "cell_type": "code",
   "execution_count": null,
   "id": "24041417",
   "metadata": {},
   "outputs": [],
   "source": [
    "df[\"days_with_fog\"].plot(kind=\"box\")"
   ]
  },
  {
   "cell_type": "markdown",
   "id": "f378e5c7",
   "metadata": {},
   "source": [
    "even more data missing here, first approach replace by median."
   ]
  },
  {
   "cell_type": "markdown",
   "id": "d40d58bd",
   "metadata": {},
   "source": [
    "Now lets look into the direction columns and see if it makes any sense to replace them somehow."
   ]
  },
  {
   "cell_type": "code",
   "execution_count": null,
   "id": "66ee25ab",
   "metadata": {},
   "outputs": [],
   "source": [
    "df.loc[:, \"direction_max_wind_speed\"].hist(bins=100)"
   ]
  },
  {
   "cell_type": "code",
   "execution_count": null,
   "id": "1ddee2a6",
   "metadata": {},
   "outputs": [],
   "source": [
    "df.loc[:, \"direction_peak_wind_speed\"].hist(bins=100)"
   ]
  },
  {
   "cell_type": "code",
   "execution_count": null,
   "id": "5419affd",
   "metadata": {},
   "outputs": [],
   "source": [
    "from sklearn.feature_selection import mutual_info_regression"
   ]
  },
  {
   "cell_type": "code",
   "execution_count": null,
   "id": "9101bfe8",
   "metadata": {},
   "outputs": [],
   "source": [
    "df_wind = df.loc[:, (\"max_wind_speed\", \"direction_max_wind_speed\", \"direction_peak_wind_speed\", \"site_eui\")].dropna()\n",
    "X = df_wind.loc[:, (\"max_wind_speed\", \"direction_max_wind_speed\", \"direction_peak_wind_speed\")]\n",
    "y = df_wind.loc[:, \"site_eui\"]"
   ]
  },
  {
   "cell_type": "code",
   "execution_count": null,
   "id": "fddcf43b",
   "metadata": {},
   "outputs": [],
   "source": [
    "X.shape, y.shape"
   ]
  },
  {
   "cell_type": "code",
   "execution_count": null,
   "id": "699f8bb6",
   "metadata": {},
   "outputs": [],
   "source": [
    "mutual_info_regression(X, y)"
   ]
  },
  {
   "cell_type": "markdown",
   "id": "280351fd",
   "metadata": {},
   "source": [
    "since the mutual information is very small for all these values, it doesn't seem interesting to keep them."
   ]
  },
  {
   "cell_type": "code",
   "execution_count": null,
   "id": "a4ce8038",
   "metadata": {},
   "outputs": [],
   "source": [
    "for key in (\"max_wind_speed\", \"direction_max_wind_speed\", \"direction_peak_wind_speed\"):\n",
    "    df = df.drop(key, axis=1)"
   ]
  },
  {
   "cell_type": "code",
   "execution_count": null,
   "id": "3c575ea0",
   "metadata": {},
   "outputs": [],
   "source": [
    "df.head()"
   ]
  },
  {
   "cell_type": "code",
   "execution_count": null,
   "id": "727f10af",
   "metadata": {},
   "outputs": [],
   "source": [
    "df_fog = df.loc[:, (\"days_with_fog\", \"site_eui\")].dropna()\n",
    "X = df_fog.loc[:, (\"days_with_fog\")]\n",
    "y = df_fog.loc[:, \"site_eui\"]"
   ]
  },
  {
   "cell_type": "code",
   "execution_count": null,
   "id": "db607e7a",
   "metadata": {},
   "outputs": [],
   "source": [
    "mutual_info_regression(np.array(X).reshape(-1, 1), y)"
   ]
  },
  {
   "cell_type": "code",
   "execution_count": null,
   "id": "f895d88c",
   "metadata": {},
   "outputs": [],
   "source": [
    "df_rating = df.loc[:, (\"energy_star_rating\", \"site_eui\")].dropna()\n",
    "X = df_rating.loc[:, \"energy_star_rating\"]\n",
    "y = df_rating.loc[:, \"site_eui\"]"
   ]
  },
  {
   "cell_type": "code",
   "execution_count": null,
   "id": "e9d40c58",
   "metadata": {},
   "outputs": [],
   "source": [
    "mutual_info_regression(np.array(X).reshape(-1, 1), y)"
   ]
  },
  {
   "cell_type": "markdown",
   "id": "a6528895",
   "metadata": {},
   "source": [
    "this mutual information is considerably large, lets keep it, replacing nan by median"
   ]
  },
  {
   "cell_type": "markdown",
   "id": "f3c63ca6",
   "metadata": {},
   "source": [
    "Solution for treating the NaN columns:\n",
    "- wind columns: drop columns\n",
    "- year_built: drop rows, cut outliers (\"boxplot method\")\n",
    "- energy_star_rating, fog replace by median"
   ]
  },
  {
   "cell_type": "code",
   "execution_count": null,
   "id": "7a182d73",
   "metadata": {},
   "outputs": [],
   "source": [
    "df.head()"
   ]
  },
  {
   "cell_type": "code",
   "execution_count": null,
   "id": "15cf23f1",
   "metadata": {},
   "outputs": [],
   "source": [
    "df.info()"
   ]
  },
  {
   "cell_type": "code",
   "execution_count": null,
   "id": "9c86852f",
   "metadata": {},
   "outputs": [],
   "source": [
    "aux = df.loc[:, (\"State_Factor\", \"building_class\", \"facility_type\")]\n",
    "aux.drop_duplicates(\"State_Factor\").shape"
   ]
  },
  {
   "cell_type": "code",
   "execution_count": null,
   "id": "b00e6324",
   "metadata": {},
   "outputs": [],
   "source": [
    "aux.drop_duplicates(\"building_class\")"
   ]
  },
  {
   "cell_type": "code",
   "execution_count": null,
   "id": "c3dca406",
   "metadata": {},
   "outputs": [],
   "source": [
    "aux.drop_duplicates(\"facility_type\").shape"
   ]
  },
  {
   "cell_type": "code",
   "execution_count": null,
   "id": "7cdb3ee1",
   "metadata": {},
   "outputs": [],
   "source": [
    "aux.groupby(\"facility_type\").count()"
   ]
  },
  {
   "cell_type": "code",
   "execution_count": null,
   "id": "29555e3d",
   "metadata": {},
   "outputs": [],
   "source": [
    "aux.loc[:, \"State_Factor\"].value_counts()"
   ]
  },
  {
   "cell_type": "markdown",
   "id": "480a7c95",
   "metadata": {},
   "source": [
    "most of the data is uncategorized in facility type, we could drop that column, we will start working without the categorical values."
   ]
  },
  {
   "cell_type": "code",
   "execution_count": null,
   "id": "6f14ac84",
   "metadata": {},
   "outputs": [],
   "source": [
    "df.replace({\"building_class\": \"Commercial\"}, -1).replace({\"building_class\": \"Residential\"}, 1).info()"
   ]
  },
  {
   "cell_type": "code",
   "execution_count": null,
   "id": "1733d57d",
   "metadata": {},
   "outputs": [],
   "source": [
    "df.loc[:, \"floor_area\"].hist(bins=100)"
   ]
  },
  {
   "cell_type": "code",
   "execution_count": null,
   "id": "fb6e872f",
   "metadata": {},
   "outputs": [],
   "source": [
    "df.loc[:, \"ELEVATION\"].hist(bins=50)"
   ]
  },
  {
   "cell_type": "code",
   "execution_count": null,
   "id": "007d3fde",
   "metadata": {},
   "outputs": [],
   "source": [
    "df.loc[:, \"cooling_degree_days\"].hist(bins=100)"
   ]
  },
  {
   "cell_type": "code",
   "execution_count": null,
   "id": "3bd5d77b",
   "metadata": {},
   "outputs": [],
   "source": [
    "df.loc[:, \"heating_degree_days\"].hist(bins=100)"
   ]
  },
  {
   "cell_type": "code",
   "execution_count": null,
   "id": "79d458e3",
   "metadata": {},
   "outputs": [],
   "source": [
    "df.loc[:, \"precipitation_inches\"].hist(bins=100)"
   ]
  },
  {
   "cell_type": "code",
   "execution_count": null,
   "id": "cc9a68a4",
   "metadata": {},
   "outputs": [],
   "source": [
    "df.loc[:, \"snowfall_inches\"].hist(bins=100)"
   ]
  },
  {
   "cell_type": "code",
   "execution_count": null,
   "id": "9e29d831",
   "metadata": {},
   "outputs": [],
   "source": [
    "df.loc[:, \"snowdepth_inches\"].hist(bins=100)"
   ]
  },
  {
   "cell_type": "code",
   "execution_count": null,
   "id": "3621a42d",
   "metadata": {},
   "outputs": [],
   "source": [
    "df.loc[:, \"avg_temp\"].hist(bins=100)"
   ]
  },
  {
   "cell_type": "code",
   "execution_count": null,
   "id": "6f16f4e7",
   "metadata": {},
   "outputs": [],
   "source": [
    "df.loc[:, \"august_avg_temp\"].hist(bins=100)"
   ]
  },
  {
   "cell_type": "code",
   "execution_count": null,
   "id": "ed5f3774",
   "metadata": {},
   "outputs": [],
   "source": [
    "df.loc[df[\"year_built\"] >= 1897, \"year_built\"].hist(bins=100)"
   ]
  },
  {
   "cell_type": "markdown",
   "id": "3444d321",
   "metadata": {},
   "source": [
    "maybe this should be binned"
   ]
  },
  {
   "cell_type": "code",
   "execution_count": null,
   "id": "38eb68f0",
   "metadata": {},
   "outputs": [],
   "source": [
    "from sklearn.preprocessing import KBinsDiscretizer"
   ]
  },
  {
   "cell_type": "code",
   "execution_count": null,
   "id": "a3630b15",
   "metadata": {},
   "outputs": [],
   "source": [
    "disc = KBinsDiscretizer(n_bins=7, strategy=\"uniform\", subsample=None, encode=\"ordinal\")\n",
    "yb = np.array(df.loc[df[\"year_built\"] >= 1897, \"year_built\"]).reshape(-1, 1)\n",
    "disc.fit(yb)\n",
    "yb_binned = disc.transform(yb)"
   ]
  },
  {
   "cell_type": "code",
   "execution_count": null,
   "id": "7cd25c23",
   "metadata": {},
   "outputs": [],
   "source": [
    "disc.bin_edges_"
   ]
  },
  {
   "cell_type": "code",
   "execution_count": null,
   "id": "82ca6ab5",
   "metadata": {},
   "outputs": [],
   "source": [
    "import scipy"
   ]
  },
  {
   "cell_type": "code",
   "execution_count": null,
   "id": "64ffe06c",
   "metadata": {},
   "outputs": [],
   "source": [
    "z = np.abs(scipy.stats.zscore(df.loc[:, df.select_dtypes(include='number').columns]))"
   ]
  },
  {
   "cell_type": "code",
   "execution_count": null,
   "id": "37162ed1",
   "metadata": {},
   "outputs": [],
   "source": [
    "z"
   ]
  },
  {
   "cell_type": "code",
   "execution_count": null,
   "id": "80d1d284",
   "metadata": {},
   "outputs": [],
   "source": [
    "df.loc[:, df.select_dtypes(include='number').columns]"
   ]
  },
  {
   "cell_type": "code",
   "execution_count": null,
   "id": "765d960a",
   "metadata": {},
   "outputs": [],
   "source": [
    "print((z == z).prod(axis=1).sum())\n",
    "print((z <= 3).prod(axis=1).sum())"
   ]
  },
  {
   "cell_type": "code",
   "execution_count": null,
   "id": "6bfa75cc",
   "metadata": {},
   "outputs": [],
   "source": [
    "df.select_dtypes(include='number').columns"
   ]
  },
  {
   "cell_type": "code",
   "execution_count": null,
   "id": "a282dcd2",
   "metadata": {},
   "outputs": [],
   "source": [
    "q1,q3 = np.percentile(df.loc[:, ['year_built', 'ELEVATION']],[25,75])\n",
    "IQR = q3-q1\n",
    "upper = df.loc[:, ['year_built', 'ELEVATION']] > (q3+1,5*IQR)\n",
    "lower = df.loc[:, ['year_built', 'ELEVATION']] < (q1-1,5*IQR)\n",
    "# Position of the outlier\n",
    "print(np.sum(lower), np.sum(upper))"
   ]
  },
  {
   "cell_type": "code",
   "execution_count": null,
   "id": "7d51700e",
   "metadata": {},
   "outputs": [],
   "source": [
    "df.loc[df['year_built'] > 1950]"
   ]
  },
  {
   "cell_type": "code",
   "execution_count": null,
   "id": "14e32c1f",
   "metadata": {},
   "outputs": [],
   "source": [
    "df.loc[:, ['year_built', 'Year_Factor', 'building_class']].median()"
   ]
  },
  {
   "cell_type": "code",
   "execution_count": null,
   "id": "79e209a7",
   "metadata": {},
   "outputs": [],
   "source": [
    "x = df['building_class'].mode()"
   ]
  },
  {
   "cell_type": "code",
   "execution_count": null,
   "id": "2ab19a70",
   "metadata": {},
   "outputs": [],
   "source": [
    "df.info()"
   ]
  },
  {
   "cell_type": "code",
   "execution_count": null,
   "id": "74b85ad6",
   "metadata": {},
   "outputs": [],
   "source": [
    "df.fillna(x).info()"
   ]
  },
  {
   "cell_type": "code",
   "execution_count": null,
   "id": "65407a5c",
   "metadata": {},
   "outputs": [],
   "source": [
    "import sklearn\n",
    "ohc = sklearn.preprocessing.OneHotEncoder(sparse_output=False)"
   ]
  },
  {
   "cell_type": "code",
   "execution_count": null,
   "id": "9d34a7ca",
   "metadata": {},
   "outputs": [],
   "source": [
    "h = ohc.fit_transform(df.loc[:, df.select_dtypes(exclude='number').columns])"
   ]
  },
  {
   "cell_type": "code",
   "execution_count": null,
   "id": "723f9732",
   "metadata": {},
   "outputs": [],
   "source": [
    "h"
   ]
  },
  {
   "cell_type": "code",
   "execution_count": null,
   "id": "669ece2c",
   "metadata": {},
   "outputs": [],
   "source": [
    "df.select_dtypes(exclude='number').shape"
   ]
  },
  {
   "cell_type": "code",
   "execution_count": null,
   "id": "b3f8a1aa",
   "metadata": {},
   "outputs": [],
   "source": [
    "scaler = sklearn.preprocessing.StandardScaler()"
   ]
  },
  {
   "cell_type": "code",
   "execution_count": null,
   "id": "276e7398",
   "metadata": {},
   "outputs": [],
   "source": [
    "df.dropna(inplace=True)"
   ]
  },
  {
   "cell_type": "code",
   "execution_count": null,
   "id": "bb0ba6ac",
   "metadata": {},
   "outputs": [],
   "source": [
    "j = scaler.fit_transform(df.select_dtypes(include='number'))"
   ]
  },
  {
   "cell_type": "code",
   "execution_count": null,
   "id": "bbb485d4",
   "metadata": {},
   "outputs": [],
   "source": [
    "h.shape, j.shape"
   ]
  },
  {
   "cell_type": "code",
   "execution_count": null,
   "id": "224a883e",
   "metadata": {},
   "outputs": [],
   "source": [
    "np.concatenate((h,j), axis=1).shape"
   ]
  },
  {
   "cell_type": "code",
   "execution_count": null,
   "id": "8dc31f5e",
   "metadata": {},
   "outputs": [],
   "source": [
    "df.select_dtypes(include='number')"
   ]
  },
  {
   "cell_type": "code",
   "execution_count": null,
   "id": "32cdfada",
   "metadata": {},
   "outputs": [],
   "source": [
    "df.loc[:, df.columns.str.endswith('avg_temp')]"
   ]
  }
 ],
 "metadata": {
  "kernelspec": {
   "display_name": "Python 3 (ipykernel)",
   "language": "python",
   "name": "python3"
  },
  "language_info": {
   "codemirror_mode": {
    "name": "ipython",
    "version": 3
   },
   "file_extension": ".py",
   "mimetype": "text/x-python",
   "name": "python",
   "nbconvert_exporter": "python",
   "pygments_lexer": "ipython3",
   "version": "3.11.4"
  }
 },
 "nbformat": 4,
 "nbformat_minor": 5
}
